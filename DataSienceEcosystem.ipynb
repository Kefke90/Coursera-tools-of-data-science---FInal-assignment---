{
 "cells": [
  {
   "cell_type": "markdown",
   "id": "d68c30e9",
   "metadata": {},
   "source": [
    "### Exercise 2 - Create markdown cell with title of the notebook"
   ]
  },
  {
   "cell_type": "markdown",
   "id": "58efaeb4",
   "metadata": {},
   "source": [
    "# Data Science Tools and Ecosytem"
   ]
  },
  {
   "cell_type": "markdown",
   "id": "c0c846d8",
   "metadata": {},
   "source": [
    "### Exercise 3 - Create a markdown cell for an introduction"
   ]
  },
  {
   "cell_type": "markdown",
   "id": "9b99248b",
   "metadata": {},
   "source": [
    "In this notebook, Data Science Tools and Ecosystem are summarized."
   ]
  },
  {
   "cell_type": "markdown",
   "id": "7df0724a",
   "metadata": {},
   "source": [
    "**Objectives:**\n",
    "* List popular languages that data scientists use\n",
    "* List popular data science librariers\n",
    "* Data science tools in table format\n",
    "* Simple arithmetic expressions\n",
    "* Mintues to hour convertion"
   ]
  },
  {
   "cell_type": "markdown",
   "id": "3687f9d9",
   "metadata": {},
   "source": [
    "### Exercise 4 - Create a markdown cell to list data science languages"
   ]
  },
  {
   "cell_type": "markdown",
   "id": "353e22b7",
   "metadata": {},
   "source": [
    "Some of the popular languages that Data Scientists use are:\n",
    "1. Python\n",
    "2. R\n",
    "3. JavaScript\n",
    "4. SQL\n",
    "5. C++"
   ]
  },
  {
   "cell_type": "markdown",
   "id": "b5d1a65b",
   "metadata": {},
   "source": [
    "### Exercise 5 - Create a markdown cell to list data science librariers"
   ]
  },
  {
   "cell_type": "markdown",
   "id": "40e24076",
   "metadata": {},
   "source": [
    "Some of the commonly used libraries used by Data Scientists include:\n",
    "1. Pandas\n",
    "2. Matplotlib\n",
    "3. Numpy\n",
    "4. Keras\n",
    "5. Tensor Flow\n",
    "6. ggplot2"
   ]
  },
  {
   "cell_type": "markdown",
   "id": "7e5da667",
   "metadata": {},
   "source": [
    "### Exercise 6 - Create a markdown cell with a table of data science tools"
   ]
  },
  {
   "cell_type": "markdown",
   "id": "4c3950fe",
   "metadata": {},
   "source": [
    "|Data Science Tools|\n",
    "|---|\n",
    "|Jupyter|\n",
    "|R-Studio|\n",
    "|Apache Spark|"
   ]
  },
  {
   "cell_type": "markdown",
   "id": "4f7654f6",
   "metadata": {},
   "source": [
    "### Exercise 7 - Create a markdown cell introducing arithmetic experssion examples"
   ]
  },
  {
   "cell_type": "markdown",
   "id": "95ef3c92",
   "metadata": {},
   "source": [
    "### Below are a few examples of evaluating arithmetic expressions in Python"
   ]
  },
  {
   "cell_type": "markdown",
   "id": "ce8df711",
   "metadata": {},
   "source": [
    "### Exercise 8 - create a code cell to multiply and add numbers"
   ]
  },
  {
   "cell_type": "code",
   "execution_count": 3,
   "id": "774cd03f",
   "metadata": {},
   "outputs": [
    {
     "data": {
      "text/plain": [
       "17"
      ]
     },
     "execution_count": 3,
     "metadata": {},
     "output_type": "execute_result"
    }
   ],
   "source": [
    "#This a simple arithmetic expression to mutiply then add integers\n",
    "(3*4)+5\n"
   ]
  },
  {
   "cell_type": "markdown",
   "id": "1260bd9b",
   "metadata": {},
   "source": [
    "### Exercise 9 - Create a code cell to convert minutes to hours"
   ]
  },
  {
   "cell_type": "code",
   "execution_count": 4,
   "id": "fa637bb9",
   "metadata": {},
   "outputs": [
    {
     "name": "stdout",
     "output_type": "stream",
     "text": [
      "3.3333333333333335\n"
     ]
    }
   ],
   "source": [
    "#This will convert 200 minutes to hours by diving by 60\n",
    "#t = time in minutes\n",
    "#T = time in hours\n",
    "\n",
    "t = 200\n",
    "T = t/60\n",
    "print(T)"
   ]
  },
  {
   "cell_type": "markdown",
   "id": "84cd2fc0",
   "metadata": {},
   "source": [
    "### Exercise 11 - Create a markdown cell to indicate the author's name"
   ]
  },
  {
   "cell_type": "markdown",
   "id": "86a94af9",
   "metadata": {},
   "source": [
    "## Author:\n",
    "Kevin"
   ]
  }
 ],
 "metadata": {
  "kernelspec": {
   "display_name": "Python 3 (ipykernel)",
   "language": "python",
   "name": "python3"
  },
  "language_info": {
   "codemirror_mode": {
    "name": "ipython",
    "version": 3
   },
   "file_extension": ".py",
   "mimetype": "text/x-python",
   "name": "python",
   "nbconvert_exporter": "python",
   "pygments_lexer": "ipython3",
   "version": "3.10.9"
  }
 },
 "nbformat": 4,
 "nbformat_minor": 5
}
